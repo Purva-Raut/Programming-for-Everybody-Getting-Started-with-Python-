{
 "cells": [
  {
   "cell_type": "markdown",
   "id": "bf31079e",
   "metadata": {},
   "source": [
    "# Python Data Structures"
   ]
  },
  {
   "cell_type": "raw",
   "id": "dbc20604",
   "metadata": {},
   "source": [
    "1.Write code using find() and string slicing to extract the number at the end of the line below. \n",
    "Convert the extracted value to a floating point number and print it out.\n",
    "text = \"X-DSPAM-Confidence:    0.8475\""
   ]
  },
  {
   "cell_type": "code",
   "execution_count": 1,
   "id": "b0f6bbd8",
   "metadata": {},
   "outputs": [
    {
     "name": "stdout",
     "output_type": "stream",
     "text": [
      "0.8475\n"
     ]
    }
   ],
   "source": [
    "text = \"X-DSPAM-Confidence:    0.8475\"\n",
    "start_position= text.find(':') #find gets the position on '0'\n",
    "string_desired_num=text[start_position+1:] #we have sliced from the position of '0' till the end\n",
    "float_desired_num=float(string_desired_num) #convery string of numbers into float\n",
    "print(float_desired_num)"
   ]
  },
  {
   "cell_type": "raw",
   "id": "493a2708",
   "metadata": {},
   "source": [
    "2.Write a program that prompts for a file name, then opens that file and reads through the file, and print the contents of the file in upper case. Use the file 'words.txt' to produce the output without extra spaces between lines and font in uppercase."
   ]
  },
  {
   "cell_type": "code",
   "execution_count": 2,
   "id": "c8243787",
   "metadata": {},
   "outputs": [
    {
     "name": "stdout",
     "output_type": "stream",
     "text": [
      "Enter file name: words.txt\n",
      "WRITING PROGRAMS OR PROGRAMMING IS A VERY CREATIVE\n",
      "AND REWARDING ACTIVITY  YOU CAN WRITE PROGRAMS FOR\n",
      "MANY REASONS RANGING FROM MAKING YOUR LIVING TO SOLVING\n",
      "A DIFFICULT DATA ANALYSIS PROBLEM TO HAVING FUN TO HELPING\n",
      "SOMEONE ELSE SOLVE A PROBLEM  THIS BOOK ASSUMES THAT\n",
      "{\\EM EVERYONE} NEEDS TO KNOW HOW TO PROGRAM AND THAT ONCE\n",
      "YOU KNOW HOW TO PROGRAM, YOU WILL FIGURE OUT WHAT YOU WANT\n",
      "TO DO WITH YOUR NEWFOUND SKILLS\n",
      "\n",
      "WE ARE SURROUNDED IN OUR DAILY LIVES WITH COMPUTERS RANGING\n",
      "FROM LAPTOPS TO CELL PHONES  WE CAN THINK OF THESE COMPUTERS\n",
      "AS OUR PERSONAL ASSISTANTS WHO CAN TAKE CARE OF MANY THINGS\n",
      "ON OUR BEHALF  THE HARDWARE IN OUR CURRENT-DAY COMPUTERS\n",
      "IS ESSENTIALLY BUILT TO CONTINUOUSLY ASK US THE QUESTION\n",
      "WHAT WOULD YOU LIKE ME TO DO NEXT\n",
      "\n",
      "OUR COMPUTERS ARE FAST AND HAVE VASTS AMOUNTS OF MEMORY AND\n",
      "COULD BE VERY HELPFUL TO US IF WE ONLY KNEW THE LANGUAGE TO\n",
      "SPEAK TO EXPLAIN TO THE COMPUTER WHAT WE WOULD LIKE IT TO\n",
      "DO NEXT IF WE KNEW THIS LANGUAGE WE COULD TELL THE\n",
      "COMPUTER TO DO TASKS ON OUR BEHALF THAT WERE REPTITIVE\n",
      "INTERESTINGLY, THE KINDS OF THINGS COMPUTERS CAN DO BEST\n",
      "ARE OFTEN THE KINDS OF THINGS THAT WE HUMANS FIND BORING\n",
      "AND MIND-NUMBING\n"
     ]
    }
   ],
   "source": [
    "file_name = input(\"Enter file name: \")\n",
    "file_handle = open(file_name)\n",
    "for line in file_handle:\n",
    "    line=line.rstrip().upper()\n",
    "    print(line)"
   ]
  },
  {
   "cell_type": "raw",
   "id": "4b4d0a95",
   "metadata": {},
   "source": [
    "3.Write a program that prompts for a file name, then opens that file and reads through the file, looking for lines of the form:\n",
    "X-DSPAM-Confidence:    0.8475\n",
    "Count these lines and extract the floating point values from each of the lines and compute the average of those values and produce an output as shown below. Do not use the sum() function or a variable named sum in your solution.\n",
    "when you are testing below enter mbox-short.txt as the file name.\n",
    "\n",
    "Desired Output\n",
    "Average spam confidence: 0.7507185185185187"
   ]
  },
  {
   "cell_type": "code",
   "execution_count": 3,
   "id": "c09f4e0e",
   "metadata": {},
   "outputs": [
    {
     "name": "stdout",
     "output_type": "stream",
     "text": [
      "Enter file namembox-short.txt\n",
      "Average spam confidence: 0.7507185185185187\n"
     ]
    }
   ],
   "source": [
    "file_name=input(\"Enter file name\")\n",
    "file_handle=open(file_name)\n",
    "\n",
    "total=0.0\n",
    "count=0\n",
    "\n",
    "for line in file_handle:\n",
    "    if line.startswith('X-DSPAM-Confidence'): #locate lines starting with the format provided and storing them in a variable\n",
    "        y=line\n",
    "        start_position=y.find(':') #we need to separate number from string hence locate position of ':'\n",
    "        desired_num=y[start_position+1:]#our desired number is after ':' hence slice strings adding 1 to located position of ':'\n",
    "        float_desired_num=float(desired_num)#our number is still string datatype, so convert it to float\n",
    "        total+=float_desired_num #calculate sum\n",
    "        count+=1 #calculate total count of numbers\n",
    "        average=total/count #calculate average\n",
    "print('Average spam confidence:',average)"
   ]
  },
  {
   "cell_type": "raw",
   "id": "745b8a7c",
   "metadata": {},
   "source": [
    "4.Open the file romeo.txt and read it line by line. For each line, split the line into a list of words using the split() method. The program should build a list of words. For each word on each line check to see if the word is already in the list and if not append it to the list. When the program completes, sort and print the resulting words in python sort() order as shown in the desired output.\n",
    "\n",
    "Desired Output\n",
    "['Arise', 'But', 'It', 'Juliet', 'Who', 'already', 'and', 'breaks', 'east', 'envious', 'fair', 'grief', 'is', 'kill', 'light', 'moon', 'pale', 'sick', 'soft', 'sun', 'the', 'through', 'what', 'window', 'with', 'yonder']"
   ]
  },
  {
   "cell_type": "code",
   "execution_count": 4,
   "id": "b4511328",
   "metadata": {},
   "outputs": [
    {
     "name": "stdout",
     "output_type": "stream",
     "text": [
      "Enter file name: romeo.txt\n",
      "['Arise', 'But', 'It', 'Juliet', 'Who', 'already', 'and', 'breaks', 'east', 'envious', 'fair', 'grief', 'is', 'kill', 'light', 'moon', 'pale', 'sick', 'soft', 'sun', 'the', 'through', 'what', 'window', 'with', 'yonder']\n"
     ]
    }
   ],
   "source": [
    "fname = input(\"Enter file name: \")\n",
    "fh = open(fname)\n",
    "lst = list()\n",
    "for line in fh:\n",
    "    for word in line.rstrip().split():\n",
    "        if word not in lst:\n",
    "            lst.append(word)\n",
    "            lst.sort()\n",
    "print(lst)"
   ]
  },
  {
   "cell_type": "raw",
   "id": "040ff1ed",
   "metadata": {},
   "source": [
    "5.Write a program to read through the mbox-short.txt and figure out who has sent the greatest number of mail messages. The program looks for 'From ' lines and takes the second word of those lines as the person who sent the mail. The program creates a Python dictionary that maps the sender's mail address to a count of the number of times they appear in the file. After the dictionary is produced, the program reads through the dictionary using a maximum loop to find the most prolific committer."
   ]
  },
  {
   "cell_type": "code",
   "execution_count": 5,
   "id": "da3c578b",
   "metadata": {},
   "outputs": [
    {
     "name": "stdout",
     "output_type": "stream",
     "text": [
      "Enter file:\n",
      "cwen@iupui.edu 5\n"
     ]
    }
   ],
   "source": [
    "#create file prompt\n",
    "#len <1 will open given file by default.\n",
    "name = input(\"Enter file:\")\n",
    "if len(name) < 1:\n",
    "    name = \"mbox-short.txt\"\n",
    "handle = open(name)\n",
    "\n",
    "#creating a list which will contain all the email addresses after 'From '\n",
    "email_list=[]\n",
    "for line in handle:\n",
    "    if line.startswith('From '):\n",
    "        words=line.split()\n",
    "        email_list.append(words[1]) #1-only has the email addresses\n",
    "        \n",
    "#creating dictionary to count the occurences of all the emails\n",
    "dictionary={}\n",
    "for email in email_list:\n",
    "    dictionary[email]=dictionary.get(email,0) + 1\n",
    "\n",
    "#Now to specify the word with max occurences\n",
    "max_count=None\n",
    "email_address=None\n",
    "for word,count in dictionary.items():\n",
    "    if max_count is None or count>max_count:\n",
    "        email_address=word\n",
    "        max_count=count\n",
    "        \n",
    "print(email_address,max_count)"
   ]
  },
  {
   "cell_type": "raw",
   "id": "fa7664dc",
   "metadata": {},
   "source": [
    "6.Write a program to read through the mbox-short.txt and figure out the distribution by hour of the day for each of the messages. You can pull the hour out from the 'From ' line by finding the time and then splitting the string a second time using a colon.From stephen.marquard@uct.ac.za Sat Jan  5 09:14:16 2008.Once you have accumulated the counts for each hour, print out the counts, sorted by hour as shown below.\n",
    "Desired Output\n",
    "04 3\n",
    "06 1\n",
    "07 1\n",
    "09 2\n",
    "10 3\n",
    "11 6\n",
    "14 1\n",
    "15 2\n",
    "16 4\n",
    "17 2\n",
    "18 1\n",
    "19 1"
   ]
  },
  {
   "cell_type": "code",
   "execution_count": 6,
   "id": "9da7a330",
   "metadata": {},
   "outputs": [
    {
     "name": "stdout",
     "output_type": "stream",
     "text": [
      "Enter file:\n",
      "04 3\n",
      "06 1\n",
      "07 1\n",
      "09 2\n",
      "10 3\n",
      "11 6\n",
      "14 1\n",
      "15 2\n",
      "16 4\n",
      "17 2\n",
      "18 1\n",
      "19 1\n"
     ]
    }
   ],
   "source": [
    "name = input(\"Enter file:\")\n",
    "if len(name) < 1:\n",
    "    name = \"mbox-short.txt\"\n",
    "handle = open(name)\n",
    "\n",
    "hour_list=[]\n",
    "for line in handle:\n",
    "    if line.startswith('From '):\n",
    "        splits=line.split() #checked this with print and got to know that time is at index=5\n",
    "        #print(splits)\n",
    "        words=line.split()[5].split(':')\n",
    "        hour_list.append(words[0])\n",
    "\n",
    "#count ocurrence of hours\n",
    "hour_count={}\n",
    "for hour in hour_list:\n",
    "    hour_count[hour]=hour_count.get(hour,0)+1\n",
    "\n",
    "#In order to sort the keys create new tuple from the dictonary and append tuple to the list \n",
    "new_list=[]\n",
    "for key,value in hour_count.items():\n",
    "    new_tuple=(key,value)\n",
    "    new_list.append(new_tuple)\n",
    "\n",
    "#sort the created list\n",
    "new_list=sorted(new_list)\n",
    "\n",
    "#print the key and value from the list of tuples\n",
    "for key,value in new_list:\n",
    "    print(key,value)            "
   ]
  },
  {
   "cell_type": "raw",
   "id": "b3bc47b0",
   "metadata": {},
   "source": [
    "7.Open the file mbox-short.txt and read it line by line. When you find a line that starts with 'From ' like the following line:\n",
    "From stephen.marquard@uct.ac.za Sat Jan  5 09:14:16 2008\n",
    "You will parse the From line using split() and print out the second word in the line (i.e. the entire address of the person who sent the message). Then print out a count at the end.\n",
    "Hint: make sure not to include the lines that start with 'From:'. Also look at the last line of the sample output to see how to print the count.\n",
    "\n",
    "Desired Output\n",
    "stephen.marquard@uct.ac.za\n",
    "louis@media.berkeley.edu\n",
    "zqian@umich.edu\n",
    "rjlowe@iupui.edu\n",
    "zqian@umich.edu\n",
    "rjlowe@iupui.edu\n",
    "cwen@iupui.edu\n",
    "cwen@iupui.edu\n",
    "gsilver@umich.edu\n",
    "gsilver@umich.edu\n",
    "zqian@umich.edu\n",
    "gsilver@umich.edu\n",
    "wagnermr@iupui.edu\n",
    "zqian@umich.edu\n",
    "antranig@caret.cam.ac.uk\n",
    "gopal.ramasammycook@gmail.com\n",
    "david.horwitz@uct.ac.za\n",
    "david.horwitz@uct.ac.za\n",
    "david.horwitz@uct.ac.za\n",
    "david.horwitz@uct.ac.za\n",
    "stephen.marquard@uct.ac.za\n",
    "louis@media.berkeley.edu\n",
    "louis@media.berkeley.edu\n",
    "ray@media.berkeley.edu\n",
    "cwen@iupui.edu\n",
    "cwen@iupui.edu\n",
    "cwen@iupui.edu\n",
    "There were 27 lines in the file with From as the first word"
   ]
  },
  {
   "cell_type": "code",
   "execution_count": 7,
   "id": "7067022d",
   "metadata": {},
   "outputs": [
    {
     "name": "stdout",
     "output_type": "stream",
     "text": [
      "Enter file name: \n",
      "stephen.marquard@uct.ac.za\n",
      "louis@media.berkeley.edu\n",
      "zqian@umich.edu\n",
      "rjlowe@iupui.edu\n",
      "zqian@umich.edu\n",
      "rjlowe@iupui.edu\n",
      "cwen@iupui.edu\n",
      "cwen@iupui.edu\n",
      "gsilver@umich.edu\n",
      "gsilver@umich.edu\n",
      "zqian@umich.edu\n",
      "gsilver@umich.edu\n",
      "wagnermr@iupui.edu\n",
      "zqian@umich.edu\n",
      "antranig@caret.cam.ac.uk\n",
      "gopal.ramasammycook@gmail.com\n",
      "david.horwitz@uct.ac.za\n",
      "david.horwitz@uct.ac.za\n",
      "david.horwitz@uct.ac.za\n",
      "david.horwitz@uct.ac.za\n",
      "stephen.marquard@uct.ac.za\n",
      "louis@media.berkeley.edu\n",
      "louis@media.berkeley.edu\n",
      "ray@media.berkeley.edu\n",
      "cwen@iupui.edu\n",
      "cwen@iupui.edu\n",
      "cwen@iupui.edu\n",
      "There were 27 lines in the file with From as the first word\n"
     ]
    }
   ],
   "source": [
    "fname = input(\"Enter file name: \")\n",
    "if len(fname) < 1:\n",
    "    fname = \"mbox-short.txt\"\n",
    "\n",
    "fh = open(fname)\n",
    "count = 0\n",
    "\n",
    "for line in fh:\n",
    "    if line.startswith('From '):\n",
    "        line2=line.split()\n",
    "        line3=line2[1]\n",
    "        count+=1\n",
    "        print(line3)\n",
    "print(f'There were {count} lines in the file with From as the first word')"
   ]
  },
  {
   "cell_type": "code",
   "execution_count": null,
   "id": "0b4a964c",
   "metadata": {},
   "outputs": [],
   "source": []
  }
 ],
 "metadata": {
  "kernelspec": {
   "display_name": "Python 3 (ipykernel)",
   "language": "python",
   "name": "python3"
  },
  "language_info": {
   "codemirror_mode": {
    "name": "ipython",
    "version": 3
   },
   "file_extension": ".py",
   "mimetype": "text/x-python",
   "name": "python",
   "nbconvert_exporter": "python",
   "pygments_lexer": "ipython3",
   "version": "3.9.7"
  }
 },
 "nbformat": 4,
 "nbformat_minor": 5
}
