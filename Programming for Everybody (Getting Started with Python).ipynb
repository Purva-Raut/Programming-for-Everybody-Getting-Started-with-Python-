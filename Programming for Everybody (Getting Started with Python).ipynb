{
 "cells": [
  {
   "cell_type": "markdown",
   "id": "76915205",
   "metadata": {},
   "source": [
    "# Programming for Everybody (Getting Started with Python)\n",
    "## University of Michigan"
   ]
  },
  {
   "cell_type": "raw",
   "id": "a2abb78e",
   "metadata": {},
   "source": [
    "1.Write a program that uses a print statement to say 'hello world'"
   ]
  },
  {
   "cell_type": "code",
   "execution_count": 1,
   "id": "c9762189",
   "metadata": {},
   "outputs": [
    {
     "name": "stdout",
     "output_type": "stream",
     "text": [
      "hello world\n"
     ]
    }
   ],
   "source": [
    "print(\"hello world\")"
   ]
  },
  {
   "cell_type": "raw",
   "id": "e958a6b7",
   "metadata": {},
   "source": [
    "2.Write a program that uses input to prompt a user for their name and then welcomes them."
   ]
  },
  {
   "cell_type": "code",
   "execution_count": 2,
   "id": "fc92c89a",
   "metadata": {},
   "outputs": [
    {
     "name": "stdout",
     "output_type": "stream",
     "text": [
      "Enter your name: Purva\n",
      "Hello Purva\n"
     ]
    }
   ],
   "source": [
    "name = input(\"Enter your name: \")\n",
    "print(\"Hello\",name)"
   ]
  },
  {
   "cell_type": "raw",
   "id": "2013ffea",
   "metadata": {},
   "source": [
    "3.Write a program to prompt the user for hours and rate per hour using input to compute gross pay."
   ]
  },
  {
   "cell_type": "code",
   "execution_count": 12,
   "id": "bbe0cec6",
   "metadata": {},
   "outputs": [
    {
     "name": "stdout",
     "output_type": "stream",
     "text": [
      "Enter hours:8\n",
      "Enter rate:5\n",
      "Gross pay is £ 40.0\n"
     ]
    }
   ],
   "source": [
    "hours=input('Enter hours:')\n",
    "rate=input('Enter rate:')\n",
    "\n",
    "#Handle invalid input\n",
    "try:\n",
    "#Input gives string value so convert strings to float.\n",
    "    h=float(hours)\n",
    "    r=float(rate)\n",
    "    gross_pay=h*r\n",
    "    print('Gross pay is £',gross_pay)\n",
    "    \n",
    "except:\n",
    "    print('Error:Enter a valid number')"
   ]
  },
  {
   "cell_type": "raw",
   "id": "0f044150",
   "metadata": {},
   "source": [
    "4.Write a program to prompt the user for hours and rate per hour using input to compute gross pay. \n",
    "Pay the hourly rate for the hours up to 40 and 1.5 times the hourly rate for all hours worked above 40 hours."
   ]
  },
  {
   "cell_type": "code",
   "execution_count": 23,
   "id": "deeea4ab",
   "metadata": {},
   "outputs": [
    {
     "name": "stdout",
     "output_type": "stream",
     "text": [
      "Enter hours:45\n",
      "Enter rate:10.50\n",
      "Gross pay is £ 498.75\n"
     ]
    }
   ],
   "source": [
    "hours=input('Enter hours:')\n",
    "rate=input('Enter rate:')\n",
    "\n",
    "#Handle invalid input\n",
    "try:\n",
    "#Input gives string value so convert strings to float.\n",
    "    h=float(hours)\n",
    "    r=float(rate)\n",
    "\n",
    "    if h<=40:\n",
    "        gross_pay=h*r\n",
    "    else:\n",
    "        gross_pay=((h-40) * (1.5*r) + (40*r)) #rate for hours exceeding 40 is rate*1.5\n",
    "\n",
    "    print('Gross pay is £',gross_pay)\n",
    "    \n",
    "except:\n",
    "    print('Error:Enter a valid number')"
   ]
  },
  {
   "cell_type": "raw",
   "id": "19603b66",
   "metadata": {},
   "source": [
    "5.Write a program to prompt for a score between 0.0 and 1.0. If the score is out of range, print an error. If the score is between 0.0 and 1.0, print a grade using the following table:\n",
    "Score Grade\n",
    ">= 0.9 A\n",
    ">= 0.8 B\n",
    ">= 0.7 C\n",
    ">= 0.6 D\n",
    "< 0.6 F"
   ]
  },
  {
   "cell_type": "code",
   "execution_count": 42,
   "id": "8ac43355",
   "metadata": {},
   "outputs": [
    {
     "name": "stdout",
     "output_type": "stream",
     "text": [
      "Enter Score: 0.85\n",
      "Grade:B\n"
     ]
    }
   ],
   "source": [
    "score = input(\"Enter Score: \")\n",
    "\n",
    "#Input gives string value so convert strings to float.\n",
    "\n",
    "try:\n",
    "    s=float(score)\n",
    "\n",
    "    if s >= 0.9 and s<=1.0:\n",
    "        print('Grade:A')\n",
    "    elif s>=0.8 and s<=1.0:\n",
    "        print('Grade:B')\n",
    "    elif s>=0.7 and s<=1.0:\n",
    "        print('Grade:C')\n",
    "    elif s>=0.6 and s<=1.0:\n",
    "        print('Grade:D')\n",
    "    elif s<0.6 and s<=1.0 and s>=0:\n",
    "        print('Grade:F')\n",
    "    else:\n",
    "        print('Error:Score should be between 0.0 and 1.0')\n",
    "        \n",
    "except:\n",
    "    print('Error:Enter a valid score between 0.0 and 1.0')"
   ]
  },
  {
   "cell_type": "raw",
   "id": "7fec8cac",
   "metadata": {},
   "source": [
    "6.Write a program to prompt the user for hours and rate per hour using input to compute gross pay.\n",
    "Pay should be the normal rate for hours up to 40 and time-and-a-half for the hourly rate for all hours worked above 40 hours. Put the logic to do the computation of pay in a function called computepay() and use the function to do the computation."
   ]
  },
  {
   "cell_type": "code",
   "execution_count": 53,
   "id": "2d0939ae",
   "metadata": {},
   "outputs": [
    {
     "name": "stdout",
     "output_type": "stream",
     "text": [
      "Enter hours:45\n",
      "Enter rate:10.50\n",
      "Pay is 498.75\n"
     ]
    }
   ],
   "source": [
    "#create function that does the calculation\n",
    "def computepay(h,r):\n",
    "    if h<=40:\n",
    "        pay=h*r\n",
    "    else:\n",
    "        pay=((h-40)*(r*1.5)+(40*r))\n",
    "    return pay\n",
    "\n",
    "#create input that prompts the user for hours and rate per hour\n",
    "hours=input('Enter hours:')\n",
    "rate=input('Enter rate:')\n",
    "\n",
    "#handle value error\n",
    "try:\n",
    "#convert strings of input into floats\n",
    "    h1=float(hours)\n",
    "    r1=float(rate)\n",
    "\n",
    "#Print the output for the function\n",
    "    print('Pay is',computepay(h1,r1))\n",
    "    \n",
    "except:\n",
    "    print('Error:Enter a valid number')"
   ]
  },
  {
   "cell_type": "raw",
   "id": "04594d11",
   "metadata": {},
   "source": [
    "7.Write a program that repeatedly prompts a user for integer numbers until the user enters 'done'.\n",
    "Once 'done' is entered, print out the largest and smallest of the numbers.\n",
    "If the user enters anything other than a valid number catch it with a try/except and put out an appropriate message and ignore the number.\n",
    "Enter 7, 2, bob, 10, and 4 and match the output below.\n",
    "\n",
    "Desired output:\n",
    "Invalid input\n",
    "Maximum is 10\n",
    "Minimum is 2"
   ]
  },
  {
   "cell_type": "code",
   "execution_count": 56,
   "id": "651227f0",
   "metadata": {},
   "outputs": [
    {
     "name": "stdout",
     "output_type": "stream",
     "text": [
      "Please enter a number: 7\n",
      "Please enter a number: 2\n",
      "Please enter a number: bob\n",
      "Invalid input\n",
      "Please enter a number: 10\n",
      "Please enter a number: 4\n",
      "Please enter a number: Done\n",
      "Largest number is  10\n",
      "Smallest number is  2\n"
     ]
    }
   ],
   "source": [
    "largest=None\n",
    "smallest=None\n",
    "\n",
    "while True:\n",
    "    number=input('Please enter a number: ')\n",
    "    if number.lower()=='done': #lower() to make 'done' case-insensitive\n",
    "        break\n",
    "        \n",
    "#Handle value error\n",
    "    try:\n",
    "        fnumber=float(number)\n",
    "    \n",
    "        #get the largest value\n",
    "        if largest is None:\n",
    "            largest=fnumber\n",
    "        elif fnumber>largest:\n",
    "            largest=fnumber\n",
    "        \n",
    "        #get the smallest value\n",
    "        if smallest is None:\n",
    "            smallest=fnumber\n",
    "        elif fnumber<smallest:\n",
    "            smallest=fnumber\n",
    "    \n",
    "    except:\n",
    "        #If the user input is not 'done' or a number\n",
    "        print('Invalid input')\n",
    "        continue\n",
    "        \n",
    "print('Largest number is ',int(largest))\n",
    "print('Smallest number is ',int(smallest))    "
   ]
  },
  {
   "cell_type": "code",
   "execution_count": null,
   "id": "0b707f0d",
   "metadata": {},
   "outputs": [],
   "source": []
  }
 ],
 "metadata": {
  "kernelspec": {
   "display_name": "Python 3 (ipykernel)",
   "language": "python",
   "name": "python3"
  },
  "language_info": {
   "codemirror_mode": {
    "name": "ipython",
    "version": 3
   },
   "file_extension": ".py",
   "mimetype": "text/x-python",
   "name": "python",
   "nbconvert_exporter": "python",
   "pygments_lexer": "ipython3",
   "version": "3.9.7"
  }
 },
 "nbformat": 4,
 "nbformat_minor": 5
}
