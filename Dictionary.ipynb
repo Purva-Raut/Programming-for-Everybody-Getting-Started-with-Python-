{
 "cells": [
  {
   "cell_type": "markdown",
   "id": "62d37175",
   "metadata": {},
   "source": [
    "# Dictionary"
   ]
  },
  {
   "cell_type": "raw",
   "id": "9c2a05e8",
   "metadata": {},
   "source": [
    "You can think of a dictionary as a mapping between a set of indices (which are\n",
    "called keys) and a set of values. Each key maps to a value. The association of a\n",
    "key and a value is called a key-value pair or sometimes an item."
   ]
  },
  {
   "cell_type": "markdown",
   "id": "5f2018f8",
   "metadata": {},
   "source": [
    "1.Dictionary basics"
   ]
  },
  {
   "cell_type": "code",
   "execution_count": 1,
   "id": "c090a8c0",
   "metadata": {},
   "outputs": [],
   "source": [
    "#create a dictionary\n",
    "purse=dict() #or purse={}"
   ]
  },
  {
   "cell_type": "code",
   "execution_count": 2,
   "id": "26644ad3",
   "metadata": {},
   "outputs": [
    {
     "name": "stdout",
     "output_type": "stream",
     "text": [
      "{'money': 12, 'candy': 3, 'hair-clips': 9}\n"
     ]
    }
   ],
   "source": [
    "#insert key and values in dictionary\n",
    "purse['money']=12\n",
    "purse['candy']=3\n",
    "purse['hair-clips']=9\n",
    "print(purse)"
   ]
  },
  {
   "cell_type": "code",
   "execution_count": 3,
   "id": "ee20097a",
   "metadata": {},
   "outputs": [
    {
     "ename": "KeyError",
     "evalue": "1",
     "output_type": "error",
     "traceback": [
      "\u001b[1;31m---------------------------------------------------------------------------\u001b[0m",
      "\u001b[1;31mKeyError\u001b[0m                                  Traceback (most recent call last)",
      "\u001b[1;32mC:\\Users\\PURVAR~1\\AppData\\Local\\Temp/ipykernel_7808/3065321176.py\u001b[0m in \u001b[0;36m<module>\u001b[1;34m\u001b[0m\n\u001b[1;32m----> 1\u001b[1;33m \u001b[0mprint\u001b[0m\u001b[1;33m(\u001b[0m\u001b[0mpurse\u001b[0m\u001b[1;33m[\u001b[0m\u001b[1;36m1\u001b[0m\u001b[1;33m]\u001b[0m\u001b[1;33m)\u001b[0m\u001b[1;33m\u001b[0m\u001b[1;33m\u001b[0m\u001b[0m\n\u001b[0m",
      "\u001b[1;31mKeyError\u001b[0m: 1"
     ]
    }
   ],
   "source": [
    "print(purse[1])\n",
    "#indexing does not work as dictionaries are not ordered"
   ]
  },
  {
   "cell_type": "code",
   "execution_count": 4,
   "id": "38390753",
   "metadata": {},
   "outputs": [
    {
     "name": "stdout",
     "output_type": "stream",
     "text": [
      "12\n"
     ]
    }
   ],
   "source": [
    "#specify key to get value\n",
    "print(purse['money'])"
   ]
  },
  {
   "cell_type": "code",
   "execution_count": 5,
   "id": "86764d58",
   "metadata": {},
   "outputs": [],
   "source": [
    "#modify dictionary\n",
    "purse['money']=purse['money']-2"
   ]
  },
  {
   "cell_type": "code",
   "execution_count": 6,
   "id": "d1adf553",
   "metadata": {},
   "outputs": [
    {
     "name": "stdout",
     "output_type": "stream",
     "text": [
      "{'money': 10, 'candy': 3, 'hair-clips': 9}\n"
     ]
    }
   ],
   "source": [
    "print(purse)"
   ]
  },
  {
   "cell_type": "raw",
   "id": "45bef7c9",
   "metadata": {},
   "source": [
    "2.Counting with dictionary"
   ]
  },
  {
   "cell_type": "code",
   "execution_count": 7,
   "id": "85421bf5",
   "metadata": {},
   "outputs": [],
   "source": [
    "#Count the occurence of names from a list of names\n",
    "list=['pam', 'john', 'sita', 'gabriel','pam','john','john','kent','pam','pam']"
   ]
  },
  {
   "cell_type": "code",
   "execution_count": 8,
   "id": "f185f301",
   "metadata": {},
   "outputs": [],
   "source": [
    "#lets create an empty dictionary called as'count'\n",
    "count={}"
   ]
  },
  {
   "cell_type": "code",
   "execution_count": 9,
   "id": "11e1d9aa",
   "metadata": {},
   "outputs": [],
   "source": [
    "for name in list:\n",
    "    if name not in count:\n",
    "        count[name]=1\n",
    "    else:\n",
    "        count[name]=count[name]+1"
   ]
  },
  {
   "cell_type": "code",
   "execution_count": 10,
   "id": "3b5c0b70",
   "metadata": {},
   "outputs": [
    {
     "name": "stdout",
     "output_type": "stream",
     "text": [
      "{'pam': 4, 'john': 3, 'sita': 1, 'gabriel': 1, 'kent': 1}\n"
     ]
    }
   ],
   "source": [
    "print(count)"
   ]
  },
  {
   "cell_type": "code",
   "execution_count": 12,
   "id": "96b6d168",
   "metadata": {},
   "outputs": [
    {
     "name": "stdout",
     "output_type": "stream",
     "text": [
      "{'pam': 4, 'john': 3, 'sita': 1, 'gabriel': 1, 'kent': 1}\n"
     ]
    }
   ],
   "source": [
    "#another way which is a shortcut\n",
    "#using get method for dictionaries\n",
    "list=['pam', 'john', 'sita', 'gabriel','pam','john','john','kent','pam','pam']\n",
    "count2={}\n",
    "for name in list:\n",
    "    count2[name]=count2.get(name,0)+1\n",
    "print(count2)"
   ]
  },
  {
   "cell_type": "raw",
   "id": "b7e966ef",
   "metadata": {},
   "source": [
    "3. Count the occurence of words from a sentence"
   ]
  },
  {
   "cell_type": "code",
   "execution_count": 19,
   "id": "52d09981",
   "metadata": {},
   "outputs": [
    {
     "name": "stdout",
     "output_type": "stream",
     "text": [
      "{'I': 5, 'felt': 1, 'happy': 4, 'because': 2, 'saw': 1, 'the': 1, 'others': 1, 'were': 1, 'and': 1, 'knew': 1, 'should': 1, 'feel': 1, 'but': 1, 'wasn’t': 1, 'really': 1}\n"
     ]
    }
   ],
   "source": [
    "sentence='I felt happy because I saw the others were happy and because I knew I should feel happy but I wasn’t really happy'\n",
    "count3={}\n",
    "\n",
    "words=sentence.split()\n",
    "#split method splits the sentence in words using space in our example\n",
    "\n",
    "for word in words:\n",
    "    count3[word]=count3.get(word,0)+1\n",
    "print(count3)"
   ]
  },
  {
   "cell_type": "raw",
   "id": "69ad930a",
   "metadata": {},
   "source": [
    "4.Print keys and values of a dictionary"
   ]
  },
  {
   "cell_type": "code",
   "execution_count": 27,
   "id": "cd8e1564",
   "metadata": {},
   "outputs": [
    {
     "name": "stdout",
     "output_type": "stream",
     "text": [
      "name ['Purva', 'Swaraj', 'Geeta', 'Raj']\n",
      "age [32, 36, 22, 27]\n"
     ]
    }
   ],
   "source": [
    "customers={'name':['Purva','Swaraj','Geeta','Raj'],'age':[32,36,22,27]}\n",
    "\n",
    "for key in customers:\n",
    "    print(key,customers[key])"
   ]
  },
  {
   "cell_type": "code",
   "execution_count": 35,
   "id": "9993bdce",
   "metadata": {},
   "outputs": [
    {
     "name": "stdout",
     "output_type": "stream",
     "text": [
      "name ['Purva', 'Swaraj', 'Geeta', 'Raj']\n",
      "age [32, 36, 22, 27]\n"
     ]
    }
   ],
   "source": [
    "#alternate method\n",
    "for k,v in customers.items():\n",
    "    print(k,v)"
   ]
  },
  {
   "cell_type": "code",
   "execution_count": null,
   "id": "2091a01a",
   "metadata": {},
   "outputs": [],
   "source": [
    "#just print keys"
   ]
  },
  {
   "cell_type": "code",
   "execution_count": 28,
   "id": "dd0d85ee",
   "metadata": {},
   "outputs": [
    {
     "name": "stdout",
     "output_type": "stream",
     "text": [
      "dict_keys(['name', 'age'])\n"
     ]
    }
   ],
   "source": [
    "print(customers.keys())"
   ]
  },
  {
   "cell_type": "code",
   "execution_count": 29,
   "id": "22e9540d",
   "metadata": {},
   "outputs": [],
   "source": [
    "#just print values"
   ]
  },
  {
   "cell_type": "code",
   "execution_count": 30,
   "id": "b4a2c210",
   "metadata": {},
   "outputs": [
    {
     "name": "stdout",
     "output_type": "stream",
     "text": [
      "dict_values([['Purva', 'Swaraj', 'Geeta', 'Raj'], [32, 36, 22, 27]])\n"
     ]
    }
   ],
   "source": [
    "print(customers.values())"
   ]
  },
  {
   "cell_type": "code",
   "execution_count": 31,
   "id": "41e88f73",
   "metadata": {},
   "outputs": [],
   "source": [
    "#print keys and values"
   ]
  },
  {
   "cell_type": "code",
   "execution_count": 33,
   "id": "eaa47c7d",
   "metadata": {},
   "outputs": [
    {
     "name": "stdout",
     "output_type": "stream",
     "text": [
      "dict_items([('name', ['Purva', 'Swaraj', 'Geeta', 'Raj']), ('age', [32, 36, 22, 27])])\n"
     ]
    }
   ],
   "source": [
    "print(customers.items())\n",
    "#gives tuples"
   ]
  },
  {
   "cell_type": "raw",
   "id": "dd674faf",
   "metadata": {},
   "source": [
    "5.Find the largest occurence of word from a txt file and specify the word with its no. of occurences"
   ]
  },
  {
   "cell_type": "code",
   "execution_count": 54,
   "id": "2ff237cc",
   "metadata": {},
   "outputs": [
    {
     "name": "stdout",
     "output_type": "stream",
     "text": [
      "Enter a file name: words.txt\n",
      "The word'to' has the largest count of 16\n"
     ]
    }
   ],
   "source": [
    "#create input for user to enter file name.\n",
    "file_name=input('Enter a file name: ')\n",
    "handle=open(file_name)\n",
    "\n",
    "#create a dictionary which has the words with its occurences\n",
    "dict_counts={}\n",
    "for line in handle:\n",
    "    words=line.split()\n",
    "    for word in words:\n",
    "        dict_counts[word]=dict_counts.get(word,0)+1\n",
    "\n",
    "#word with maximum no. of occurences\n",
    "largest_count=None\n",
    "largest_word=None\n",
    "\n",
    "for word,count in dict_counts.items():\n",
    "    if largest_count is None or count>largest_count:\n",
    "        largest_word=word\n",
    "        largest_count=count\n",
    "        \n",
    "print(f\"The word'{largest_word}' has the largest count of {largest_count}\")"
   ]
  }
 ],
 "metadata": {
  "kernelspec": {
   "display_name": "Python 3 (ipykernel)",
   "language": "python",
   "name": "python3"
  },
  "language_info": {
   "codemirror_mode": {
    "name": "ipython",
    "version": 3
   },
   "file_extension": ".py",
   "mimetype": "text/x-python",
   "name": "python",
   "nbconvert_exporter": "python",
   "pygments_lexer": "ipython3",
   "version": "3.9.7"
  }
 },
 "nbformat": 4,
 "nbformat_minor": 5
}
